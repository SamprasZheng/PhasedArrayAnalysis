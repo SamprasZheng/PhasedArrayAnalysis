{
 "cells": [
  {
   "cell_type": "code",
   "execution_count": 5,
   "metadata": {},
   "outputs": [],
   "source": [
    "import numpy as np\n",
    "import pandas as pd \n",
    "import math\n",
    "import matplotlib.pyplot as plt\n",
    "import time\n",
    "import os\n",
    "src_path = \"../Src/\"\n",
    "data_path = \"../Measurement/\"\n",
    "cora_path = \"../CORA-Z7/\"\n",
    "import sys\n",
    "sys.path.insert(1, src_path)\n",
    "sys.path.insert(2, cora_path)"
   ]
  },
  {
   "cell_type": "code",
   "execution_count": 28,
   "metadata": {},
   "outputs": [],
   "source": [
    "#g_ULTX\n",
    "def F5288_2x2(f,gain_code, phicut, rx_theta, info_show=False):\n",
    "    # f: frequenct (GHz)\n",
    "    dfs = pd.DataFrame();theta=rx_theta;phi=phicut\n",
    "    rawdatapath=data_path+\"F5288_BVH_p\"+str(phi)+\"t0g\"+str(gain_code)\n",
    "    file_path = f\"{rawdatapath}/Phi{phi}_theta_{theta}.csv\"\n",
    "    df = pd.read_csv(file_path)\n",
    "    dfs = pd.concat([dfs, df['S21_LogM']], axis=1)\n",
    "    dfs = pd.concat([dfs, df['S31_LogM']], axis=1)\n",
    "    idx=(f-24)/0.01\n",
    "    if 27.5<f<28.5:\n",
    "        compensate_gain= 57.13\n",
    "        gain= dfs['S21_LogM'][idx]+compensate_gain\n",
    "    if 28.5<f<29.5:\n",
    "        compensate_gain= 56.74\n",
    "        gain= dfs['S21_LogM'][idx]+compensate_gain\n",
    "    \n",
    "    if 29.5<f<30.5:\n",
    "        compensate_gain= 57.82\n",
    "        gain= dfs['S21_LogM'][idx]+compensate_gain\n",
    "\n",
    "    if info_show == True:\n",
    "        print(\"F5288 2x2 BCH Measurement info List as below\")\n",
    "        print(\"Setup in 7F D Chamber , OTA Distance: 1.7 m\")\n",
    "        print(\"compensate_gain:\"+str(round(compensate_gain,2))+\"dB\")\n",
    "        print(\"Polarization: RHCP beamform to theta = 0 deg.\")\n",
    "        print(\"measured S21:\"+str(round(dfs['S21_LogM'][idx],2))+\"dB\")\n",
    "        print(\"measured S31:\"+str(round(dfs['S31_LogM'][idx],2))+\"dB\")\n",
    "        print(\"F5288_2x2 gain = S21 + compensate_gain:\"+str(round(gain,2))+\"dB\")\n",
    "        XPD=dfs['S21_LogM'][idx]-dfs['S31_LogM'][idx];print(\"XPD:\"+str(round(XPD,2))+\"dB\")\n",
    "        AR=20*np.log10(abs((10**(XPD/20))+1)/abs((10**(XPD/20))-1));print(\"AR:\"+str(round(AR,2))+\"dB\")\n",
    "\n",
    "    return round(gain,2)\n",
    "\n",
    "# g_DLRX\n",
    "def F6212_2x2(f,gain_code, phicut, tx_theta, info_show=False):\n",
    "    # f: frequenct (GHz)\n",
    "    dfs = pd.DataFrame();theta=tx_theta;phi=phicut\n",
    "    rawdatapath=data_path+\"F6212_BVH_p\"+str(phi)+\"t0g\"+str(gain_code)\n",
    "    file_path = f\"{rawdatapath}/Phi0_theta_{theta}.csv\"\n",
    "    df = pd.read_csv(file_path)\n",
    "    dfs = pd.concat([dfs, df['S12_LogM']], axis=1)\n",
    "    dfs = pd.concat([dfs, df['S13_LogM']], axis=1)\n",
    "    idx=(f-15)/0.01\n",
    "    if 16.5<f<17.5:\n",
    "        compensate_gain= 51.29\n",
    "        gain= dfs['S12_LogM'][idx]+compensate_gain\n",
    "    if 17.5<f<18.5:\n",
    "        compensate_gain= 50.44\n",
    "        gain= dfs['S12_LogM'][idx]+compensate_gain\n",
    "    \n",
    "    if 18.5<f<19.5:\n",
    "        compensate_gain= 51.58\n",
    "        gain= dfs['S12_LogM'][idx]+compensate_gain\n",
    "        \n",
    "\n",
    "    if info_show == True:\n",
    "        print(\"F6212 2x2 BCH Measurement info List as below\")\n",
    "        print(\"Setup in 7F D Chamber , OTA Distance: 1.7 m\") \n",
    "        print(\"Polarization: RHCP beamform to theta = 0 deg.\")\n",
    "        print(\"measured S12:\"+str(round(dfs['S12_LogM'][idx],2))+\"dB\")\n",
    "        print(\"measured S13:\"+str(round(dfs['S13_LogM'][idx],2))+\"dB\")\n",
    "        print(\"F6212_2x2 gain = S21 + compensate_gain:\"+str(round(gain,2))+\"dB\")\n",
    "        print(\"compensate_gain:\"+str(round(compensate_gain,2))+\"dB\")\n",
    "        XPD=dfs['S12_LogM'][idx]-dfs['S13_LogM'][idx];print(\"XPD:\"+str(round(XPD,2))+\"dB\")\n",
    "        AR=20*np.log10(abs((10**(XPD/20))+1)/abs((10**(XPD/20))-1));print(\"AR:\"+str(round(AR,2))+\"dB\")\n",
    "        \n",
    "    return round(gain,2)\n",
    "def LPhorn():\n",
    "    return 23\n",
    "def CPLTX_1x4():\n",
    "    return 22\n",
    "def CPLRX_1x4():\n",
    "    return 22\n",
    "def cubesat_antenna_TXant_v3_ch1(f):\n",
    "    if 17.5<f<18.5:\n",
    "        return 7.83\n",
    "    if 18.5<f<19.5:\n",
    "        return 5.67\n",
    "    if 19.5<f<20.5:\n",
    "        return 5.08\n",
    "def cubesat_antenna_RXant_v3_ch1(f):\n",
    "    if 27.5<f<28.5:\n",
    "        return 6.77\n",
    "    if 28.5<f<29.5:\n",
    "        return 10.53\n",
    "    if 29.5<f<30.5:\n",
    "        return 9.62\n",
    "def DL_link_budget(d,f,g_DLTX,g_DLRX,TXUC_power):\n",
    "    # d: distance(m)\n",
    "    # f: frequenct (GHz)\n",
    "    fspl = 20*np.log10(d)+20*np.log10(f*1e9)+20*np.log10(4*np.pi/3e8)\n",
    "    if (TXUC_power+g_DLTX)>25:\n",
    "        DL_CPL=25; print(\"CPL DL output power saturated\")\n",
    "    TXDC_power = DL_CPL-fspl+g_DLRX; \n",
    "    if(TXDC_power)>-4:\n",
    "        TXDC_power=-4; print(\"RXDC input power saturated\")\n",
    "    print(\"TXDC input power: \"+str(round(TXDC_power,2))+\"dBm\")\n",
    "\n",
    "def UL_link_budget(d,f,g_ULTX,g_ULRX,RXUC_power):\n",
    "    # d: distance(m)\n",
    "    # f: frequenct (GHz)\n",
    "    fspl = 20*np.log10(d)+20*np.log10(f*1e9)+20*np.log10(4*np.pi/3e8)\n",
    "    if (RXUC_power+g_ULTX)>36:\n",
    "        UL_UT=36; print(\"UT UL output power saturated\")\n",
    "    RXDC_power = UL_UT-fspl+g_ULRX\n",
    "    if(UL_UT-fspl+g_ULRX)>-4:\n",
    "        RXDC_power=-4; print(\"RXDC input power saturated\")\n",
    "    print(\"RXDC input power: \"+str(round(RXDC_power,2))+\"dBm\")\n",
    "    # return\n",
    "#-4 dBm"
   ]
  },
  {
   "cell_type": "code",
   "execution_count": 29,
   "metadata": {},
   "outputs": [
    {
     "name": "stdout",
     "output_type": "stream",
     "text": [
      "CPL DL output power saturated\n",
      "TXDC input power: -16.17dBm\n"
     ]
    }
   ],
   "source": [
    "d=3;f=18;TXUC_power=19\n",
    "g_DLTX= cubesat_antenna_TXant_v3_ch1(f)\n",
    "g_DLRX= F6212_2x2(f=18,gain_code=27,phicut=0,tx_theta=0,info_show=False)\n",
    "DL_link_budget(d,f,g_DLTX,g_DLRX,TXUC_power)"
   ]
  },
  {
   "cell_type": "code",
   "execution_count": 30,
   "metadata": {},
   "outputs": [
    {
     "name": "stdout",
     "output_type": "stream",
     "text": [
      "UT UL output power saturated\n",
      "RXDC input power: -28.16dBm\n"
     ]
    }
   ],
   "source": [
    "d=3;f=28;RXUC_power=18\n",
    "g_ULTX=F5288_2x2(f,gain_code=-2,phicut=0,rx_theta=0,info_show=False)\n",
    "g_ULRX= cubesat_antenna_RXant_v3_ch1(f)\n",
    "UL_link_budget(d,f,g_ULTX,g_ULRX,RXUC_power)"
   ]
  },
  {
   "cell_type": "code",
   "execution_count": 128,
   "metadata": {},
   "outputs": [
    {
     "name": "stdout",
     "output_type": "stream",
     "text": [
      "RXDC input power: -2.52dBm\n"
     ]
    }
   ],
   "source": [
    "d=3;f=28;RXUC_power=18\n",
    "g_ULTX=F5288_2x2(f,gain_code=-2,phicut=0,rx_theta=0,info_show=False)\n",
    "g_ULRX= LPhorn(f)\n",
    "UL_link_budget(d,f,g_ULTX,g_ULRX,RXUC_power)"
   ]
  }
 ],
 "metadata": {
  "kernelspec": {
   "display_name": "Python 3",
   "language": "python",
   "name": "python3"
  },
  "language_info": {
   "codemirror_mode": {
    "name": "ipython",
    "version": 3
   },
   "file_extension": ".py",
   "mimetype": "text/x-python",
   "name": "python",
   "nbconvert_exporter": "python",
   "pygments_lexer": "ipython3",
   "version": "3.10.1"
  },
  "orig_nbformat": 4
 },
 "nbformat": 4,
 "nbformat_minor": 2
}
